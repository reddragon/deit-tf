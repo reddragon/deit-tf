{
 "cells": [
  {
   "cell_type": "code",
   "execution_count": 1,
   "id": "f4433fc5",
   "metadata": {},
   "outputs": [],
   "source": [
    "import timm\n",
    "import torch\n",
    "import numpy as np\n",
    "import tensorflow as tf\n",
    "\n",
    "from copy import deepcopy\n",
    "from ml_collections import ConfigDict\n",
    "\n",
    "from typing import Dict"
   ]
  },
  {
   "cell_type": "code",
   "execution_count": 2,
   "id": "ce5a4726",
   "metadata": {},
   "outputs": [],
   "source": [
    "import sys\n",
    "\n",
    "sys.path.append(\"..\")\n",
    "\n",
    "from vit.model_configs import base_config\n",
    "from vit.layers import mha\n",
    "from vit.deit_models import ViTDistilled"
   ]
  },
  {
   "cell_type": "code",
   "execution_count": 3,
   "id": "c22c1b14",
   "metadata": {},
   "outputs": [],
   "source": [
    "deit_tiny_distilled_patch16_224 = timm.create_model(\n",
    "    model_name=\"deit_tiny_distilled_patch16_224\", num_classes=1000, pretrained=True\n",
    ")"
   ]
  },
  {
   "cell_type": "code",
   "execution_count": 4,
   "id": "19ff625e",
   "metadata": {},
   "outputs": [
    {
     "data": {
      "text/plain": [
       "True"
      ]
     },
     "execution_count": 4,
     "metadata": {},
     "output_type": "execute_result"
    }
   ],
   "source": [
    "\"dist_token\" in deit_tiny_distilled_patch16_224.state_dict()"
   ]
  },
  {
   "cell_type": "code",
   "execution_count": 5,
   "id": "bb17caa0",
   "metadata": {},
   "outputs": [
    {
     "name": "stderr",
     "output_type": "stream",
     "text": [
      "2022-03-27 09:14:15.838939: I tensorflow/core/platform/cpu_feature_guard.cc:151] This TensorFlow binary is optimized with oneAPI Deep Neural Network Library (oneDNN) to use the following CPU instructions in performance-critical operations:  AVX2 FMA\n",
      "To enable them in other operations, rebuild TensorFlow with the appropriate compiler flags.\n"
     ]
    },
    {
     "data": {
      "text/plain": [
       "TensorShape([2, 1000])"
      ]
     },
     "execution_count": 5,
     "metadata": {},
     "output_type": "execute_result"
    }
   ],
   "source": [
    "distilled_tiny_tf_config = base_config.get_config(\n",
    "    name=\"deit_tiny_distilled_patch16_224\"\n",
    ")\n",
    "deit_tiny_distilled_patch16_224_tf = ViTDistilled(distilled_tiny_tf_config)\n",
    "\n",
    "dummy_inputs = tf.ones((2, 224, 224, 3))\n",
    "deit_tiny_distilled_patch16_224_tf(dummy_inputs)[0].shape"
   ]
  },
  {
   "cell_type": "code",
   "execution_count": 6,
   "id": "7c3f9c56",
   "metadata": {},
   "outputs": [],
   "source": [
    "assert deit_tiny_distilled_patch16_224_tf.count_params() == sum(\n",
    "    p.numel() for p in deit_tiny_distilled_patch16_224.parameters()\n",
    ")"
   ]
  },
  {
   "cell_type": "code",
   "execution_count": 7,
   "id": "c9980218",
   "metadata": {},
   "outputs": [],
   "source": [
    "deit_tiny_distilled_patch16_224_dict = deit_tiny_distilled_patch16_224.state_dict()\n",
    "deit_tiny_distilled_patch16_224_dict = {\n",
    "    k: deit_tiny_distilled_patch16_224_dict[k].numpy()\n",
    "    for k in deit_tiny_distilled_patch16_224_dict\n",
    "}"
   ]
  },
  {
   "cell_type": "code",
   "execution_count": 8,
   "id": "3698ef3c",
   "metadata": {},
   "outputs": [],
   "source": [
    "def conv_transpose(w: np.ndarray):\n",
    "    return w.transpose(2, 3, 1, 0)\n",
    "\n",
    "\n",
    "def modify_attention_block(qkv: np.ndarray, config: ConfigDict):\n",
    "    if qkv.ndim == 2:\n",
    "        qkv_tf = qkv.T\n",
    "        q = qkv_tf[:, : config.projection_dim]\n",
    "        k = qkv_tf[:, config.projection_dim : 2 * config.projection_dim]\n",
    "        v = qkv_tf[:, -config.projection_dim :]\n",
    "    elif qkv.ndim == 1:\n",
    "        qkv_tf = deepcopy(qkv)\n",
    "        q = qkv_tf[: config.projection_dim]\n",
    "        k = qkv_tf[config.projection_dim : 2 * config.projection_dim]\n",
    "        v = qkv_tf[-config.projection_dim :]\n",
    "    else:\n",
    "        raise ValueError(\"NumPy arrays with either two or one dimension are allowed.\")\n",
    "    return q, k, v\n",
    "\n",
    "\n",
    "def get_tf_qkv(pt_component: str, pt_params: Dict[str, np.ndarray], config: ConfigDict):\n",
    "    qkv_weight = pt_params[f\"{pt_component}.qkv.weight\"]\n",
    "    qkv_bias = pt_params[f\"{pt_component}.qkv.bias\"]\n",
    "\n",
    "    q_w, k_w, v_w = modify_attention_block(qkv_weight, config)\n",
    "    q_b, k_b, v_b = modify_attention_block(qkv_bias, config)\n",
    "\n",
    "    return (q_w, k_w, v_w), (q_b, k_b, v_b)\n",
    "\n",
    "\n",
    "def modify_tf_block(\n",
    "    tf_component: tf.keras.layers.Layer,\n",
    "    pt_weight: np.ndarray,\n",
    "    pt_bias: np.ndarray,\n",
    "    config: ConfigDict,\n",
    "    is_attn: bool = False,\n",
    "):\n",
    "\n",
    "    pt_weight = (\n",
    "        conv_transpose(pt_weight)\n",
    "        if isinstance(tf_component, tf.keras.layers.Conv2D)\n",
    "        else pt_weight\n",
    "    )\n",
    "    pt_weight = (\n",
    "        pt_weight.transpose()\n",
    "        if isinstance(tf_component, tf.keras.layers.Dense) and not is_attn\n",
    "        else pt_weight\n",
    "    )\n",
    "    \n",
    "    tf_component.kernel.assign(tf.Variable(pt_weight))\n",
    "    tf_component.bias.assign(tf.Variable(pt_bias))\n",
    "    return tf_component"
   ]
  },
  {
   "cell_type": "code",
   "execution_count": 9,
   "id": "2e6bc07b",
   "metadata": {},
   "outputs": [],
   "source": [
    "# Projection.\n",
    "\n",
    "deit_tiny_distilled_patch16_224_tf.layers[0].layers[0] = modify_tf_block(\n",
    "    deit_tiny_distilled_patch16_224_tf.layers[0].layers[0],\n",
    "    deit_tiny_distilled_patch16_224_dict[\"patch_embed.proj.weight\"],\n",
    "    deit_tiny_distilled_patch16_224_dict[\"patch_embed.proj.bias\"],\n",
    "    distilled_tiny_tf_config,\n",
    ")"
   ]
  },
  {
   "cell_type": "code",
   "execution_count": 10,
   "id": "7be856d1",
   "metadata": {},
   "outputs": [
    {
     "data": {
      "text/plain": [
       "(1, 198, 192)"
      ]
     },
     "execution_count": 10,
     "metadata": {},
     "output_type": "execute_result"
    }
   ],
   "source": [
    "deit_tiny_distilled_patch16_224_dict[\"pos_embed\"].shape"
   ]
  },
  {
   "cell_type": "code",
   "execution_count": 11,
   "id": "7eee3b0b",
   "metadata": {},
   "outputs": [
    {
     "name": "stdout",
     "output_type": "stream",
     "text": [
      " \n"
     ]
    }
   ],
   "source": [
    "deit_tiny_distilled_patch16_224_tf.positional_embedding.assign(\n",
    "    tf.Variable(deit_tiny_distilled_patch16_224_dict[\"pos_embed\"])\n",
    ")\n",
    "print(\" \")"
   ]
  },
  {
   "cell_type": "code",
   "execution_count": 12,
   "id": "3c8bb979",
   "metadata": {},
   "outputs": [
    {
     "name": "stdout",
     "output_type": "stream",
     "text": [
      " \n"
     ]
    }
   ],
   "source": [
    "deit_tiny_distilled_patch16_224_tf.cls_token.assign(\n",
    "    tf.Variable(deit_tiny_distilled_patch16_224_dict[\"cls_token\"])\n",
    ")\n",
    "deit_tiny_distilled_patch16_224_tf.dist_token.assign(\n",
    "    tf.Variable(deit_tiny_distilled_patch16_224_dict[\"dist_token\"])\n",
    ")\n",
    "print(\" \")"
   ]
  },
  {
   "cell_type": "code",
   "execution_count": 13,
   "id": "c9fd1153",
   "metadata": {},
   "outputs": [
    {
     "name": "stdout",
     "output_type": "stream",
     "text": [
      "Model: \"vi_t_distilled\"\n",
      "_________________________________________________________________\n",
      " Layer (type)                Output Shape              Param #   \n",
      "=================================================================\n",
      " projection (Sequential)     (2, 196, 192)             147648    \n",
      "                                                                 \n",
      " transformer_block_0 (Functi  [(None, 198, 192),       444864    \n",
      " onal)                        (None, 3, None, None)]             \n",
      "                                                                 \n",
      " transformer_block_1 (Functi  [(None, 198, 192),       444864    \n",
      " onal)                        (None, 3, None, None)]             \n",
      "                                                                 \n",
      " transformer_block_2 (Functi  [(None, 198, 192),       444864    \n",
      " onal)                        (None, 3, None, None)]             \n",
      "                                                                 \n",
      " transformer_block_3 (Functi  [(None, 198, 192),       444864    \n",
      " onal)                        (None, 3, None, None)]             \n",
      "                                                                 \n",
      " transformer_block_4 (Functi  [(None, 198, 192),       444864    \n",
      " onal)                        (None, 3, None, None)]             \n",
      "                                                                 \n",
      " transformer_block_5 (Functi  [(None, 198, 192),       444864    \n",
      " onal)                        (None, 3, None, None)]             \n",
      "                                                                 \n",
      " transformer_block_6 (Functi  [(None, 198, 192),       444864    \n",
      " onal)                        (None, 3, None, None)]             \n",
      "                                                                 \n",
      " transformer_block_7 (Functi  [(None, 198, 192),       444864    \n",
      " onal)                        (None, 3, None, None)]             \n",
      "                                                                 \n",
      " transformer_block_8 (Functi  [(None, 198, 192),       444864    \n",
      " onal)                        (None, 3, None, None)]             \n",
      "                                                                 \n",
      " transformer_block_9 (Functi  [(None, 198, 192),       444864    \n",
      " onal)                        (None, 3, None, None)]             \n",
      "                                                                 \n",
      " transformer_block_10 (Funct  [(None, 198, 192),       444864    \n",
      " ional)                       (None, 3, None, None)]             \n",
      "                                                                 \n",
      " transformer_block_11 (Funct  [(None, 198, 192),       444864    \n",
      " ional)                       (None, 3, None, None)]             \n",
      "                                                                 \n",
      " dropout_48 (Dropout)        multiple                  0         \n",
      "                                                                 \n",
      " layer_normalization_24 (Lay  multiple                 384       \n",
      " erNormalization)                                                \n",
      "                                                                 \n",
      " classification_head (Dense)  multiple                 193000    \n",
      "                                                                 \n",
      " distillation_head (Dense)   multiple                  193000    \n",
      "                                                                 \n",
      "=================================================================\n",
      "Total params: 5,910,800\n",
      "Trainable params: 5,910,800\n",
      "Non-trainable params: 0\n",
      "_________________________________________________________________\n"
     ]
    }
   ],
   "source": [
    "deit_tiny_distilled_patch16_224_tf.summary()"
   ]
  },
  {
   "cell_type": "code",
   "execution_count": 14,
   "id": "1e925747",
   "metadata": {},
   "outputs": [
    {
     "name": "stdout",
     "output_type": "stream",
     "text": [
      " \n"
     ]
    }
   ],
   "source": [
    "# Final layer norm layer.\n",
    "deit_tiny_distilled_patch16_224_tf.layers[-3].gamma.assign(\n",
    "    tf.Variable(deit_tiny_distilled_patch16_224_dict[\"norm.weight\"])\n",
    ")\n",
    "deit_tiny_distilled_patch16_224_tf.layers[-3].beta.assign(\n",
    "    tf.Variable(deit_tiny_distilled_patch16_224_dict[\"norm.bias\"])\n",
    ")\n",
    "\n",
    "print(\" \")"
   ]
  },
  {
   "cell_type": "code",
   "execution_count": 15,
   "id": "0a3c637a",
   "metadata": {},
   "outputs": [
    {
     "data": {
      "text/plain": [
       "VisionTransformer(\n",
       "  (patch_embed): PatchEmbed(\n",
       "    (proj): Conv2d(3, 192, kernel_size=(16, 16), stride=(16, 16))\n",
       "    (norm): Identity()\n",
       "  )\n",
       "  (pos_drop): Dropout(p=0.0, inplace=False)\n",
       "  (blocks): Sequential(\n",
       "    (0): Block(\n",
       "      (norm1): LayerNorm((192,), eps=1e-06, elementwise_affine=True)\n",
       "      (attn): Attention(\n",
       "        (qkv): Linear(in_features=192, out_features=576, bias=True)\n",
       "        (attn_drop): Dropout(p=0.0, inplace=False)\n",
       "        (proj): Linear(in_features=192, out_features=192, bias=True)\n",
       "        (proj_drop): Dropout(p=0.0, inplace=False)\n",
       "      )\n",
       "      (drop_path): Identity()\n",
       "      (norm2): LayerNorm((192,), eps=1e-06, elementwise_affine=True)\n",
       "      (mlp): Mlp(\n",
       "        (fc1): Linear(in_features=192, out_features=768, bias=True)\n",
       "        (act): GELU()\n",
       "        (drop1): Dropout(p=0.0, inplace=False)\n",
       "        (fc2): Linear(in_features=768, out_features=192, bias=True)\n",
       "        (drop2): Dropout(p=0.0, inplace=False)\n",
       "      )\n",
       "    )\n",
       "    (1): Block(\n",
       "      (norm1): LayerNorm((192,), eps=1e-06, elementwise_affine=True)\n",
       "      (attn): Attention(\n",
       "        (qkv): Linear(in_features=192, out_features=576, bias=True)\n",
       "        (attn_drop): Dropout(p=0.0, inplace=False)\n",
       "        (proj): Linear(in_features=192, out_features=192, bias=True)\n",
       "        (proj_drop): Dropout(p=0.0, inplace=False)\n",
       "      )\n",
       "      (drop_path): Identity()\n",
       "      (norm2): LayerNorm((192,), eps=1e-06, elementwise_affine=True)\n",
       "      (mlp): Mlp(\n",
       "        (fc1): Linear(in_features=192, out_features=768, bias=True)\n",
       "        (act): GELU()\n",
       "        (drop1): Dropout(p=0.0, inplace=False)\n",
       "        (fc2): Linear(in_features=768, out_features=192, bias=True)\n",
       "        (drop2): Dropout(p=0.0, inplace=False)\n",
       "      )\n",
       "    )\n",
       "    (2): Block(\n",
       "      (norm1): LayerNorm((192,), eps=1e-06, elementwise_affine=True)\n",
       "      (attn): Attention(\n",
       "        (qkv): Linear(in_features=192, out_features=576, bias=True)\n",
       "        (attn_drop): Dropout(p=0.0, inplace=False)\n",
       "        (proj): Linear(in_features=192, out_features=192, bias=True)\n",
       "        (proj_drop): Dropout(p=0.0, inplace=False)\n",
       "      )\n",
       "      (drop_path): Identity()\n",
       "      (norm2): LayerNorm((192,), eps=1e-06, elementwise_affine=True)\n",
       "      (mlp): Mlp(\n",
       "        (fc1): Linear(in_features=192, out_features=768, bias=True)\n",
       "        (act): GELU()\n",
       "        (drop1): Dropout(p=0.0, inplace=False)\n",
       "        (fc2): Linear(in_features=768, out_features=192, bias=True)\n",
       "        (drop2): Dropout(p=0.0, inplace=False)\n",
       "      )\n",
       "    )\n",
       "    (3): Block(\n",
       "      (norm1): LayerNorm((192,), eps=1e-06, elementwise_affine=True)\n",
       "      (attn): Attention(\n",
       "        (qkv): Linear(in_features=192, out_features=576, bias=True)\n",
       "        (attn_drop): Dropout(p=0.0, inplace=False)\n",
       "        (proj): Linear(in_features=192, out_features=192, bias=True)\n",
       "        (proj_drop): Dropout(p=0.0, inplace=False)\n",
       "      )\n",
       "      (drop_path): Identity()\n",
       "      (norm2): LayerNorm((192,), eps=1e-06, elementwise_affine=True)\n",
       "      (mlp): Mlp(\n",
       "        (fc1): Linear(in_features=192, out_features=768, bias=True)\n",
       "        (act): GELU()\n",
       "        (drop1): Dropout(p=0.0, inplace=False)\n",
       "        (fc2): Linear(in_features=768, out_features=192, bias=True)\n",
       "        (drop2): Dropout(p=0.0, inplace=False)\n",
       "      )\n",
       "    )\n",
       "    (4): Block(\n",
       "      (norm1): LayerNorm((192,), eps=1e-06, elementwise_affine=True)\n",
       "      (attn): Attention(\n",
       "        (qkv): Linear(in_features=192, out_features=576, bias=True)\n",
       "        (attn_drop): Dropout(p=0.0, inplace=False)\n",
       "        (proj): Linear(in_features=192, out_features=192, bias=True)\n",
       "        (proj_drop): Dropout(p=0.0, inplace=False)\n",
       "      )\n",
       "      (drop_path): Identity()\n",
       "      (norm2): LayerNorm((192,), eps=1e-06, elementwise_affine=True)\n",
       "      (mlp): Mlp(\n",
       "        (fc1): Linear(in_features=192, out_features=768, bias=True)\n",
       "        (act): GELU()\n",
       "        (drop1): Dropout(p=0.0, inplace=False)\n",
       "        (fc2): Linear(in_features=768, out_features=192, bias=True)\n",
       "        (drop2): Dropout(p=0.0, inplace=False)\n",
       "      )\n",
       "    )\n",
       "    (5): Block(\n",
       "      (norm1): LayerNorm((192,), eps=1e-06, elementwise_affine=True)\n",
       "      (attn): Attention(\n",
       "        (qkv): Linear(in_features=192, out_features=576, bias=True)\n",
       "        (attn_drop): Dropout(p=0.0, inplace=False)\n",
       "        (proj): Linear(in_features=192, out_features=192, bias=True)\n",
       "        (proj_drop): Dropout(p=0.0, inplace=False)\n",
       "      )\n",
       "      (drop_path): Identity()\n",
       "      (norm2): LayerNorm((192,), eps=1e-06, elementwise_affine=True)\n",
       "      (mlp): Mlp(\n",
       "        (fc1): Linear(in_features=192, out_features=768, bias=True)\n",
       "        (act): GELU()\n",
       "        (drop1): Dropout(p=0.0, inplace=False)\n",
       "        (fc2): Linear(in_features=768, out_features=192, bias=True)\n",
       "        (drop2): Dropout(p=0.0, inplace=False)\n",
       "      )\n",
       "    )\n",
       "    (6): Block(\n",
       "      (norm1): LayerNorm((192,), eps=1e-06, elementwise_affine=True)\n",
       "      (attn): Attention(\n",
       "        (qkv): Linear(in_features=192, out_features=576, bias=True)\n",
       "        (attn_drop): Dropout(p=0.0, inplace=False)\n",
       "        (proj): Linear(in_features=192, out_features=192, bias=True)\n",
       "        (proj_drop): Dropout(p=0.0, inplace=False)\n",
       "      )\n",
       "      (drop_path): Identity()\n",
       "      (norm2): LayerNorm((192,), eps=1e-06, elementwise_affine=True)\n",
       "      (mlp): Mlp(\n",
       "        (fc1): Linear(in_features=192, out_features=768, bias=True)\n",
       "        (act): GELU()\n",
       "        (drop1): Dropout(p=0.0, inplace=False)\n",
       "        (fc2): Linear(in_features=768, out_features=192, bias=True)\n",
       "        (drop2): Dropout(p=0.0, inplace=False)\n",
       "      )\n",
       "    )\n",
       "    (7): Block(\n",
       "      (norm1): LayerNorm((192,), eps=1e-06, elementwise_affine=True)\n",
       "      (attn): Attention(\n",
       "        (qkv): Linear(in_features=192, out_features=576, bias=True)\n",
       "        (attn_drop): Dropout(p=0.0, inplace=False)\n",
       "        (proj): Linear(in_features=192, out_features=192, bias=True)\n",
       "        (proj_drop): Dropout(p=0.0, inplace=False)\n",
       "      )\n",
       "      (drop_path): Identity()\n",
       "      (norm2): LayerNorm((192,), eps=1e-06, elementwise_affine=True)\n",
       "      (mlp): Mlp(\n",
       "        (fc1): Linear(in_features=192, out_features=768, bias=True)\n",
       "        (act): GELU()\n",
       "        (drop1): Dropout(p=0.0, inplace=False)\n",
       "        (fc2): Linear(in_features=768, out_features=192, bias=True)\n",
       "        (drop2): Dropout(p=0.0, inplace=False)\n",
       "      )\n",
       "    )\n",
       "    (8): Block(\n",
       "      (norm1): LayerNorm((192,), eps=1e-06, elementwise_affine=True)\n",
       "      (attn): Attention(\n",
       "        (qkv): Linear(in_features=192, out_features=576, bias=True)\n",
       "        (attn_drop): Dropout(p=0.0, inplace=False)\n",
       "        (proj): Linear(in_features=192, out_features=192, bias=True)\n",
       "        (proj_drop): Dropout(p=0.0, inplace=False)\n",
       "      )\n",
       "      (drop_path): Identity()\n",
       "      (norm2): LayerNorm((192,), eps=1e-06, elementwise_affine=True)\n",
       "      (mlp): Mlp(\n",
       "        (fc1): Linear(in_features=192, out_features=768, bias=True)\n",
       "        (act): GELU()\n",
       "        (drop1): Dropout(p=0.0, inplace=False)\n",
       "        (fc2): Linear(in_features=768, out_features=192, bias=True)\n",
       "        (drop2): Dropout(p=0.0, inplace=False)\n",
       "      )\n",
       "    )\n",
       "    (9): Block(\n",
       "      (norm1): LayerNorm((192,), eps=1e-06, elementwise_affine=True)\n",
       "      (attn): Attention(\n",
       "        (qkv): Linear(in_features=192, out_features=576, bias=True)\n",
       "        (attn_drop): Dropout(p=0.0, inplace=False)\n",
       "        (proj): Linear(in_features=192, out_features=192, bias=True)\n",
       "        (proj_drop): Dropout(p=0.0, inplace=False)\n",
       "      )\n",
       "      (drop_path): Identity()\n",
       "      (norm2): LayerNorm((192,), eps=1e-06, elementwise_affine=True)\n",
       "      (mlp): Mlp(\n",
       "        (fc1): Linear(in_features=192, out_features=768, bias=True)\n",
       "        (act): GELU()\n",
       "        (drop1): Dropout(p=0.0, inplace=False)\n",
       "        (fc2): Linear(in_features=768, out_features=192, bias=True)\n",
       "        (drop2): Dropout(p=0.0, inplace=False)\n",
       "      )\n",
       "    )\n",
       "    (10): Block(\n",
       "      (norm1): LayerNorm((192,), eps=1e-06, elementwise_affine=True)\n",
       "      (attn): Attention(\n",
       "        (qkv): Linear(in_features=192, out_features=576, bias=True)\n",
       "        (attn_drop): Dropout(p=0.0, inplace=False)\n",
       "        (proj): Linear(in_features=192, out_features=192, bias=True)\n",
       "        (proj_drop): Dropout(p=0.0, inplace=False)\n",
       "      )\n",
       "      (drop_path): Identity()\n",
       "      (norm2): LayerNorm((192,), eps=1e-06, elementwise_affine=True)\n",
       "      (mlp): Mlp(\n",
       "        (fc1): Linear(in_features=192, out_features=768, bias=True)\n",
       "        (act): GELU()\n",
       "        (drop1): Dropout(p=0.0, inplace=False)\n",
       "        (fc2): Linear(in_features=768, out_features=192, bias=True)\n",
       "        (drop2): Dropout(p=0.0, inplace=False)\n",
       "      )\n",
       "    )\n",
       "    (11): Block(\n",
       "      (norm1): LayerNorm((192,), eps=1e-06, elementwise_affine=True)\n",
       "      (attn): Attention(\n",
       "        (qkv): Linear(in_features=192, out_features=576, bias=True)\n",
       "        (attn_drop): Dropout(p=0.0, inplace=False)\n",
       "        (proj): Linear(in_features=192, out_features=192, bias=True)\n",
       "        (proj_drop): Dropout(p=0.0, inplace=False)\n",
       "      )\n",
       "      (drop_path): Identity()\n",
       "      (norm2): LayerNorm((192,), eps=1e-06, elementwise_affine=True)\n",
       "      (mlp): Mlp(\n",
       "        (fc1): Linear(in_features=192, out_features=768, bias=True)\n",
       "        (act): GELU()\n",
       "        (drop1): Dropout(p=0.0, inplace=False)\n",
       "        (fc2): Linear(in_features=768, out_features=192, bias=True)\n",
       "        (drop2): Dropout(p=0.0, inplace=False)\n",
       "      )\n",
       "    )\n",
       "  )\n",
       "  (norm): LayerNorm((192,), eps=1e-06, elementwise_affine=True)\n",
       "  (pre_logits): Identity()\n",
       "  (head): Linear(in_features=192, out_features=1000, bias=True)\n",
       "  (head_dist): Linear(in_features=192, out_features=1000, bias=True)\n",
       ")"
      ]
     },
     "execution_count": 15,
     "metadata": {},
     "output_type": "execute_result"
    }
   ],
   "source": [
    "deit_tiny_distilled_patch16_224"
   ]
  },
  {
   "cell_type": "code",
   "execution_count": 16,
   "id": "2187edd8",
   "metadata": {},
   "outputs": [],
   "source": [
    "# Head layers.\n",
    "head_layer = deit_tiny_distilled_patch16_224_tf.get_layer(\"classification_head\")\n",
    "deit_tiny_distilled_patch16_224_tf.layers[-2] = modify_tf_block(\n",
    "    head_layer,\n",
    "    deit_tiny_distilled_patch16_224_dict[\"head.weight\"],\n",
    "    deit_tiny_distilled_patch16_224_dict[\"head.bias\"],\n",
    "    distilled_tiny_tf_config,\n",
    ")\n",
    "\n",
    "head_dist_layer = deit_tiny_distilled_patch16_224_tf.get_layer(\"distillation_head\")\n",
    "deit_tiny_distilled_patch16_224_tf.layers[-1] = modify_tf_block(\n",
    "    head_dist_layer,\n",
    "    deit_tiny_distilled_patch16_224_dict[\"head_dist.weight\"],\n",
    "    deit_tiny_distilled_patch16_224_dict[\"head_dist.bias\"],\n",
    "    distilled_tiny_tf_config,\n",
    ")"
   ]
  },
  {
   "cell_type": "code",
   "execution_count": 17,
   "id": "269ce974",
   "metadata": {},
   "outputs": [],
   "source": [
    "idx = 0\n",
    "\n",
    "for outer_layer in deit_tiny_distilled_patch16_224_tf.layers:\n",
    "    if isinstance(outer_layer, tf.keras.Model) and outer_layer.name != \"projection\":\n",
    "        tf_block = deit_tiny_distilled_patch16_224_tf.get_layer(outer_layer.name)\n",
    "        pt_block_name = f\"blocks.{idx}\"\n",
    "\n",
    "        # LayerNorm layers.\n",
    "        layer_norm_idx = 1\n",
    "        for layer in tf_block.layers:\n",
    "            if isinstance(layer, tf.keras.layers.LayerNormalization):\n",
    "                layer_norm_pt_prefix = f\"{pt_block_name}.norm{layer_norm_idx}\"\n",
    "                layer.gamma.assign(\n",
    "                    tf.Variable(\n",
    "                        deit_tiny_distilled_patch16_224_dict[\n",
    "                            f\"{layer_norm_pt_prefix}.weight\"\n",
    "                        ]\n",
    "                    )\n",
    "                )\n",
    "                layer.beta.assign(\n",
    "                    tf.Variable(\n",
    "                        deit_tiny_distilled_patch16_224_dict[\n",
    "                            f\"{layer_norm_pt_prefix}.bias\"\n",
    "                        ]\n",
    "                    )\n",
    "                )\n",
    "                layer_norm_idx += 1\n",
    "\n",
    "        # FFN layers.\n",
    "        ffn_layer_idx = 1\n",
    "        for layer in tf_block.layers:\n",
    "            if isinstance(layer, tf.keras.layers.Dense):\n",
    "                dense_layer_pt_prefix = f\"{pt_block_name}.mlp.fc{ffn_layer_idx}\"\n",
    "                layer = modify_tf_block(\n",
    "                    layer,\n",
    "                    deit_tiny_distilled_patch16_224_dict[\n",
    "                        f\"{dense_layer_pt_prefix}.weight\"\n",
    "                    ],\n",
    "                    deit_tiny_distilled_patch16_224_dict[\n",
    "                        f\"{dense_layer_pt_prefix}.bias\"\n",
    "                    ],\n",
    "                    distilled_tiny_tf_config,\n",
    "                )\n",
    "                ffn_layer_idx += 1\n",
    "\n",
    "        # Attention layer.\n",
    "        for layer in tf_block.layers:\n",
    "            (q_w, k_w, v_w), (q_b, k_b, v_b) = get_tf_qkv(\n",
    "                f\"{pt_block_name}.attn\",\n",
    "                deit_tiny_distilled_patch16_224_dict,\n",
    "                distilled_tiny_tf_config,\n",
    "            )\n",
    "\n",
    "            if isinstance(layer, mha.TFViTAttention):\n",
    "                # Key\n",
    "                layer.self_attention.key = modify_tf_block(\n",
    "                    layer.self_attention.key,\n",
    "                    k_w,\n",
    "                    k_b,\n",
    "                    distilled_tiny_tf_config,\n",
    "                    is_attn=True,\n",
    "                )\n",
    "                # Query\n",
    "                layer.self_attention.query = modify_tf_block(\n",
    "                    layer.self_attention.query,\n",
    "                    q_w,\n",
    "                    q_b,\n",
    "                    distilled_tiny_tf_config,\n",
    "                    is_attn=True,\n",
    "                )\n",
    "                # Value\n",
    "                layer.self_attention.value = modify_tf_block(\n",
    "                    layer.self_attention.value,\n",
    "                    v_w,\n",
    "                    v_b,\n",
    "                    distilled_tiny_tf_config,\n",
    "                    is_attn=True,\n",
    "                )\n",
    "                # Final dense projection\n",
    "                layer.dense_output.dense = modify_tf_block(\n",
    "                    layer.dense_output.dense,\n",
    "                    deit_tiny_distilled_patch16_224_dict[\n",
    "                        f\"{pt_block_name}.attn.proj.weight\"\n",
    "                    ],\n",
    "                    deit_tiny_distilled_patch16_224_dict[\n",
    "                        f\"{pt_block_name}.attn.proj.bias\"\n",
    "                    ],\n",
    "                    distilled_tiny_tf_config,\n",
    "                )\n",
    "\n",
    "        idx += 1"
   ]
  },
  {
   "cell_type": "code",
   "execution_count": 18,
   "id": "4e656581",
   "metadata": {},
   "outputs": [],
   "source": [
    "import requests\n",
    "from PIL import Image\n",
    "from io import BytesIO"
   ]
  },
  {
   "cell_type": "code",
   "execution_count": 19,
   "id": "9e4947e0",
   "metadata": {},
   "outputs": [],
   "source": [
    "norm_layer = tf.keras.layers.Normalization(\n",
    "    mean=[0.485 * 255, 0.456 * 255, 0.406 * 255],\n",
    "    variance=[(0.229 * 255) ** 2, (0.224 * 255) ** 2, (0.225 * 255) ** 2],\n",
    ")\n",
    "\n",
    "\n",
    "def preprocess_image(image):\n",
    "    image = np.array(image)\n",
    "    image_resized = tf.image.resize(image, (224, 224))\n",
    "    image_resized = tf.cast(image_resized, tf.float32)\n",
    "    \n",
    "    image_resized = tf.expand_dims(image_resized, 0)\n",
    "    return norm_layer(image_resized)\n",
    "\n",
    "def load_image_from_url(url):\n",
    "    response = requests.get(url)\n",
    "    image = Image.open(BytesIO(response.content))\n",
    "    image = preprocess_image(image)\n",
    "    return image\n",
    "\n",
    "# !wget https://storage.googleapis.com/bit_models/ilsvrc2012_wordnet_lemmas.txt -O ilsvrc2012_wordnet_lemmas.txt"
   ]
  },
  {
   "cell_type": "code",
   "execution_count": 20,
   "id": "b88d75bc",
   "metadata": {},
   "outputs": [],
   "source": [
    "with open(\"ilsvrc2012_wordnet_lemmas.txt\", \"r\") as f:\n",
    "    lines = f.readlines()\n",
    "imagenet_int_to_str = [line.rstrip() for line in lines]\n",
    "\n",
    "img_url = \"https://p0.pikrepo.com/preview/853/907/close-up-photo-of-gray-elephant.jpg\"\n",
    "image = load_image_from_url(img_url)"
   ]
  },
  {
   "cell_type": "code",
   "execution_count": 21,
   "id": "a7d263bc",
   "metadata": {},
   "outputs": [],
   "source": [
    "predictions = deit_tiny_distilled_patch16_224_tf.predict(image)\n",
    "logits = predictions[0]\n",
    "predicted_label = imagenet_int_to_str[int(np.argmax(logits))]\n",
    "expected_label = \"Indian_elephant, Elephas_maximus\"\n",
    "assert (\n",
    "    predicted_label == expected_label\n",
    "), f\"Expected {expected_label} but was {predicted_label}\""
   ]
  },
  {
   "cell_type": "code",
   "execution_count": 22,
   "id": "42edf6d3",
   "metadata": {},
   "outputs": [
    {
     "name": "stderr",
     "output_type": "stream",
     "text": [
      "2022-03-27 09:14:28.456820: W tensorflow/python/util/util.cc:368] Sets are not currently considered sequences, but this may change in the future, so consider avoiding using them.\n",
      "WARNING:absl:Found untraced functions such as attention_layer_call_fn, attention_layer_call_and_return_conditional_losses, output_layer_call_fn, output_layer_call_and_return_conditional_losses, attention_layer_call_fn while saving (showing 5 of 192). These functions will not be directly callable after loading.\n"
     ]
    },
    {
     "name": "stdout",
     "output_type": "stream",
     "text": [
      "INFO:tensorflow:Assets written to: deit_tiny_distilled_patch16_224_tf/assets\n"
     ]
    },
    {
     "name": "stderr",
     "output_type": "stream",
     "text": [
      "INFO:tensorflow:Assets written to: deit_tiny_distilled_patch16_224_tf/assets\n"
     ]
    }
   ],
   "source": [
    "deit_tiny_distilled_patch16_224_tf.save(\"deit_tiny_distilled_patch16_224_tf\")"
   ]
  }
 ],
 "metadata": {
  "kernelspec": {
   "display_name": "Python 3 (ipykernel)",
   "language": "python",
   "name": "python3"
  },
  "language_info": {
   "codemirror_mode": {
    "name": "ipython",
    "version": 3
   },
   "file_extension": ".py",
   "mimetype": "text/x-python",
   "name": "python",
   "nbconvert_exporter": "python",
   "pygments_lexer": "ipython3",
   "version": "3.8.2"
  }
 },
 "nbformat": 4,
 "nbformat_minor": 5
}
