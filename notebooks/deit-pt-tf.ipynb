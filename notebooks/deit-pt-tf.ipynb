{
 "cells": [
  {
   "cell_type": "code",
   "execution_count": 1,
   "id": "e5ee8e37",
   "metadata": {},
   "outputs": [],
   "source": [
    "import timm\n",
    "import torch\n",
    "import numpy as np\n",
    "import tensorflow as tf\n",
    "\n",
    "from copy import deepcopy\n",
    "from ml_collections import ConfigDict\n",
    "\n",
    "from typing import Dict"
   ]
  },
  {
   "cell_type": "code",
   "execution_count": 2,
   "id": "e99c05e6",
   "metadata": {},
   "outputs": [],
   "source": [
    "%load_ext autoreload\n",
    "%autoreload 2"
   ]
  },
  {
   "cell_type": "code",
   "execution_count": 3,
   "id": "569e0218",
   "metadata": {},
   "outputs": [],
   "source": [
    "import sys\n",
    "\n",
    "sys.path.append(\"..\")\n",
    "\n",
    "from vit.model_configs import base_config\n",
    "from vit.layers import mha\n",
    "from vit.vit_models import ViTClassifier"
   ]
  },
  {
   "cell_type": "code",
   "execution_count": 4,
   "id": "06095dce",
   "metadata": {
    "scrolled": true
   },
   "outputs": [],
   "source": [
    "deit_tiny_patch16_224 = timm.create_model(\n",
    "    model_name=\"deit_tiny_patch16_224\", num_classes=1000, pretrained=True\n",
    ")"
   ]
  },
  {
   "cell_type": "code",
   "execution_count": 5,
   "id": "ba03cddf",
   "metadata": {},
   "outputs": [
    {
     "data": {
      "text/plain": [
       "False"
      ]
     },
     "execution_count": 5,
     "metadata": {},
     "output_type": "execute_result"
    }
   ],
   "source": [
    "\"dist_token\" in deit_tiny_patch16_224.state_dict()"
   ]
  },
  {
   "cell_type": "code",
   "execution_count": 6,
   "id": "15852563",
   "metadata": {},
   "outputs": [
    {
     "name": "stderr",
     "output_type": "stream",
     "text": [
      "2022-03-27 08:43:19.867812: I tensorflow/core/platform/cpu_feature_guard.cc:151] This TensorFlow binary is optimized with oneAPI Deep Neural Network Library (oneDNN) to use the following CPU instructions in performance-critical operations:  AVX2 FMA\n",
      "To enable them in other operations, rebuild TensorFlow with the appropriate compiler flags.\n"
     ]
    },
    {
     "data": {
      "text/plain": [
       "TensorShape([2, 1000])"
      ]
     },
     "execution_count": 6,
     "metadata": {},
     "output_type": "execute_result"
    }
   ],
   "source": [
    "deit_tiny_patch16_224_tf_config = base_config.get_config()\n",
    "deit_tiny_patch16_224_tf = ViTClassifier(deit_tiny_patch16_224_tf_config)\n",
    "\n",
    "dummy_inputs = tf.ones((2, 224, 224, 3))\n",
    "deit_tiny_patch16_224_tf(dummy_inputs)[0].shape"
   ]
  },
  {
   "cell_type": "code",
   "execution_count": 7,
   "id": "17b0178d",
   "metadata": {},
   "outputs": [
    {
     "name": "stdout",
     "output_type": "stream",
     "text": [
      "Model: \"vi_t_classifier\"\n",
      "_________________________________________________________________\n",
      " Layer (type)                Output Shape              Param #   \n",
      "=================================================================\n",
      " projection (Sequential)     (2, 196, 192)             147648    \n",
      "                                                                 \n",
      " transformer_block_0 (Functi  [(None, 197, 192),       444864    \n",
      " onal)                        (None, 3, None, None)]             \n",
      "                                                                 \n",
      " transformer_block_1 (Functi  [(None, 197, 192),       444864    \n",
      " onal)                        (None, 3, None, None)]             \n",
      "                                                                 \n",
      " transformer_block_2 (Functi  [(None, 197, 192),       444864    \n",
      " onal)                        (None, 3, None, None)]             \n",
      "                                                                 \n",
      " transformer_block_3 (Functi  [(None, 197, 192),       444864    \n",
      " onal)                        (None, 3, None, None)]             \n",
      "                                                                 \n",
      " transformer_block_4 (Functi  [(None, 197, 192),       444864    \n",
      " onal)                        (None, 3, None, None)]             \n",
      "                                                                 \n",
      " transformer_block_5 (Functi  [(None, 197, 192),       444864    \n",
      " onal)                        (None, 3, None, None)]             \n",
      "                                                                 \n",
      " transformer_block_6 (Functi  [(None, 197, 192),       444864    \n",
      " onal)                        (None, 3, None, None)]             \n",
      "                                                                 \n",
      " transformer_block_7 (Functi  [(None, 197, 192),       444864    \n",
      " onal)                        (None, 3, None, None)]             \n",
      "                                                                 \n",
      " transformer_block_8 (Functi  [(None, 197, 192),       444864    \n",
      " onal)                        (None, 3, None, None)]             \n",
      "                                                                 \n",
      " transformer_block_9 (Functi  [(None, 197, 192),       444864    \n",
      " onal)                        (None, 3, None, None)]             \n",
      "                                                                 \n",
      " transformer_block_10 (Funct  [(None, 197, 192),       444864    \n",
      " ional)                       (None, 3, None, None)]             \n",
      "                                                                 \n",
      " transformer_block_11 (Funct  [(None, 197, 192),       444864    \n",
      " ional)                       (None, 3, None, None)]             \n",
      "                                                                 \n",
      " dropout_48 (Dropout)        multiple                  0         \n",
      "                                                                 \n",
      " layer_normalization_24 (Lay  multiple                 384       \n",
      " erNormalization)                                                \n",
      "                                                                 \n",
      " classifier (Dense)          multiple                  193000    \n",
      "                                                                 \n",
      "=================================================================\n",
      "Total params: 5,717,416\n",
      "Trainable params: 5,717,416\n",
      "Non-trainable params: 0\n",
      "_________________________________________________________________\n"
     ]
    }
   ],
   "source": [
    "deit_tiny_patch16_224_tf.summary()"
   ]
  },
  {
   "cell_type": "code",
   "execution_count": 8,
   "id": "4d55d8ce",
   "metadata": {},
   "outputs": [],
   "source": [
    "assert deit_tiny_patch16_224_tf.count_params() == sum(\n",
    "    p.numel() for p in deit_tiny_patch16_224.parameters()\n",
    ")"
   ]
  },
  {
   "cell_type": "code",
   "execution_count": 9,
   "id": "2802cbbd",
   "metadata": {},
   "outputs": [],
   "source": [
    "deit_tiny_patch16_224_dict = deit_tiny_patch16_224.state_dict()\n",
    "deit_tiny_patch16_224_dict = {\n",
    "    k: deit_tiny_patch16_224_dict[k].numpy() for k in deit_tiny_patch16_224_dict\n",
    "}"
   ]
  },
  {
   "cell_type": "markdown",
   "id": "b7d65b20",
   "metadata": {},
   "source": [
    "```py\n",
    "params_jax[\"Transformer/encoderblock_0/MultiHeadDotProductAttention_1/key/kernel\"].shape\n",
    ">>> (768, 12, 64)\n",
    "```"
   ]
  },
  {
   "cell_type": "code",
   "execution_count": 10,
   "id": "e24dbb61",
   "metadata": {},
   "outputs": [],
   "source": [
    "def conv_transpose(w: np.ndarray):\n",
    "    return w.transpose(2, 3, 1, 0)\n",
    "\n",
    "\n",
    "def modify_attention_block(qkv: np.ndarray, config: ConfigDict):\n",
    "    if qkv.ndim == 2:\n",
    "        qkv_tf = qkv.T\n",
    "        q = qkv_tf[:, : config.projection_dim]\n",
    "        k = qkv_tf[:, config.projection_dim : 2 * config.projection_dim]\n",
    "        v = qkv_tf[:, -config.projection_dim :]\n",
    "    elif qkv.ndim == 1:\n",
    "        qkv_tf = deepcopy(qkv)\n",
    "        q = qkv_tf[: config.projection_dim]\n",
    "        k = qkv_tf[config.projection_dim : 2 * config.projection_dim]\n",
    "        v = qkv_tf[-config.projection_dim :]\n",
    "    else:\n",
    "        raise ValueError(\"NumPy arrays with either two or one dimension are allowed.\")\n",
    "    return q, k, v\n",
    "\n",
    "\n",
    "def get_tf_qkv(pt_component: str, pt_params: Dict[str, np.ndarray], config: ConfigDict):\n",
    "    qkv_weight = pt_params[f\"{pt_component}.qkv.weight\"]\n",
    "    qkv_bias = pt_params[f\"{pt_component}.qkv.bias\"]\n",
    "\n",
    "    q_w, k_w, v_w = modify_attention_block(qkv_weight, config)\n",
    "    q_b, k_b, v_b = modify_attention_block(qkv_bias, config)\n",
    "\n",
    "    return (q_w, k_w, v_w), (q_b, k_b, v_b)\n",
    "\n",
    "\n",
    "def modify_tf_block(\n",
    "    tf_component: tf.keras.layers.Layer,\n",
    "    pt_weight: np.ndarray,\n",
    "    pt_bias: np.ndarray,\n",
    "    config: ConfigDict,\n",
    "    is_attn: bool = False,\n",
    "):\n",
    "\n",
    "    pt_weight = (\n",
    "        conv_transpose(pt_weight)\n",
    "        if isinstance(tf_component, tf.keras.layers.Conv2D)\n",
    "        else pt_weight\n",
    "    )\n",
    "    pt_weight = (\n",
    "        pt_weight.transpose()\n",
    "        if isinstance(tf_component, tf.keras.layers.Dense) and not is_attn\n",
    "        else pt_weight\n",
    "    )\n",
    "\n",
    "    tf_component.kernel.assign(tf.Variable(pt_weight))\n",
    "    tf_component.bias.assign(tf.Variable(pt_bias))\n",
    "    return tf_component"
   ]
  },
  {
   "cell_type": "code",
   "execution_count": 11,
   "id": "5554d60b",
   "metadata": {},
   "outputs": [],
   "source": [
    "# Projection.\n",
    "\n",
    "deit_tiny_patch16_224_tf.layers[0].layers[0] = modify_tf_block(\n",
    "    deit_tiny_patch16_224_tf.layers[0].layers[0],\n",
    "    deit_tiny_patch16_224_dict[\"patch_embed.proj.weight\"],\n",
    "    deit_tiny_patch16_224_dict[\"patch_embed.proj.bias\"],\n",
    "    deit_tiny_patch16_224_tf_config,\n",
    ")"
   ]
  },
  {
   "cell_type": "code",
   "execution_count": 12,
   "id": "eb6821f2",
   "metadata": {},
   "outputs": [],
   "source": [
    "np.testing.assert_allclose(\n",
    "    deit_tiny_patch16_224_tf.layers[0].layers[0].kernel.numpy(),\n",
    "    conv_transpose(deit_tiny_patch16_224_dict[\"patch_embed.proj.weight\"]),\n",
    ")\n",
    "\n",
    "np.testing.assert_allclose(\n",
    "    deit_tiny_patch16_224_tf.layers[0].layers[0].bias.numpy(),\n",
    "    deit_tiny_patch16_224_dict[\"patch_embed.proj.bias\"],\n",
    ")"
   ]
  },
  {
   "cell_type": "code",
   "execution_count": 13,
   "id": "912c1f58",
   "metadata": {},
   "outputs": [
    {
     "data": {
      "text/plain": [
       "(1, 197, 192)"
      ]
     },
     "execution_count": 13,
     "metadata": {},
     "output_type": "execute_result"
    }
   ],
   "source": [
    "deit_tiny_patch16_224_dict[\"pos_embed\"].shape"
   ]
  },
  {
   "cell_type": "code",
   "execution_count": 14,
   "id": "7e233984",
   "metadata": {},
   "outputs": [
    {
     "name": "stdout",
     "output_type": "stream",
     "text": [
      " \n"
     ]
    }
   ],
   "source": [
    "deit_tiny_patch16_224_tf.positional_embedding.assign(\n",
    "    tf.Variable(deit_tiny_patch16_224_dict[\"pos_embed\"])\n",
    ")\n",
    "print(\" \")"
   ]
  },
  {
   "cell_type": "code",
   "execution_count": 15,
   "id": "c200deaf",
   "metadata": {},
   "outputs": [],
   "source": [
    "np.testing.assert_allclose(\n",
    "    deit_tiny_patch16_224_tf.positional_embedding.numpy(),\n",
    "    deit_tiny_patch16_224_dict[\"pos_embed\"],\n",
    ")"
   ]
  },
  {
   "cell_type": "code",
   "execution_count": 16,
   "id": "94b84fcc",
   "metadata": {},
   "outputs": [
    {
     "name": "stdout",
     "output_type": "stream",
     "text": [
      " \n"
     ]
    }
   ],
   "source": [
    "deit_tiny_patch16_224_tf.cls_token.assign(\n",
    "    tf.Variable(deit_tiny_patch16_224_dict[\"cls_token\"])\n",
    ")\n",
    "print(\" \")"
   ]
  },
  {
   "cell_type": "code",
   "execution_count": 17,
   "id": "b1f7e047",
   "metadata": {},
   "outputs": [],
   "source": [
    "np.testing.assert_allclose(\n",
    "    deit_tiny_patch16_224_tf.cls_token.numpy(),\n",
    "    deit_tiny_patch16_224_dict[\"cls_token\"],\n",
    ")"
   ]
  },
  {
   "cell_type": "code",
   "execution_count": 18,
   "id": "c9a9e2e6",
   "metadata": {},
   "outputs": [
    {
     "name": "stdout",
     "output_type": "stream",
     "text": [
      " \n"
     ]
    }
   ],
   "source": [
    "# Final layer norm layer.\n",
    "deit_tiny_patch16_224_tf.layers[-2].gamma.assign(\n",
    "    tf.Variable(deit_tiny_patch16_224_dict[\"norm.weight\"])\n",
    ")\n",
    "deit_tiny_patch16_224_tf.layers[-2].beta.assign(\n",
    "    tf.Variable(deit_tiny_patch16_224_dict[\"norm.bias\"])\n",
    ")\n",
    "\n",
    "print(\" \")"
   ]
  },
  {
   "cell_type": "code",
   "execution_count": 19,
   "id": "8f7fc4a8",
   "metadata": {},
   "outputs": [],
   "source": [
    "np.testing.assert_allclose(\n",
    "    deit_tiny_patch16_224_tf.layers[-2].gamma.numpy(),\n",
    "    deit_tiny_patch16_224_dict[\"norm.weight\"],\n",
    ")\n",
    "\n",
    "np.testing.assert_allclose(\n",
    "    deit_tiny_patch16_224_tf.layers[-2].beta.numpy(),\n",
    "    deit_tiny_patch16_224_dict[\"norm.bias\"],\n",
    ")"
   ]
  },
  {
   "cell_type": "code",
   "execution_count": 20,
   "id": "db2ea0ba",
   "metadata": {},
   "outputs": [],
   "source": [
    "# Head layer.\n",
    "\n",
    "deit_tiny_patch16_224_tf.layers[-1] = modify_tf_block(\n",
    "    deit_tiny_patch16_224_tf.layers[-1],\n",
    "    deit_tiny_patch16_224_dict[\"head.weight\"],\n",
    "    deit_tiny_patch16_224_dict[\"head.bias\"],\n",
    "    deit_tiny_patch16_224_tf_config,\n",
    ")"
   ]
  },
  {
   "cell_type": "code",
   "execution_count": 21,
   "id": "d0a6c318",
   "metadata": {},
   "outputs": [],
   "source": [
    "np.testing.assert_allclose(\n",
    "    deit_tiny_patch16_224_tf.layers[-1].kernel.numpy(),\n",
    "    deit_tiny_patch16_224_dict[\"head.weight\"].transpose(),\n",
    ")\n",
    "\n",
    "np.testing.assert_allclose(\n",
    "    deit_tiny_patch16_224_tf.layers[-1].bias.numpy(),\n",
    "    deit_tiny_patch16_224_dict[\"head.bias\"].transpose(),\n",
    ")"
   ]
  },
  {
   "cell_type": "markdown",
   "id": "05ac02df",
   "metadata": {},
   "source": [
    "```\n",
    "(10): Block(\n",
    "      (norm1): LayerNorm((192,), eps=1e-06, elementwise_affine=True)\n",
    "      (attn): Attention(\n",
    "        (qkv): Linear(in_features=192, out_features=576, bias=True)\n",
    "        (attn_drop): Dropout(p=0.0, inplace=False)\n",
    "        (proj): Linear(in_features=192, out_features=192, bias=True)\n",
    "        (proj_drop): Dropout(p=0.0, inplace=False)\n",
    "      )\n",
    "      (drop_path): Identity()\n",
    "      (norm2): LayerNorm((192,), eps=1e-06, elementwise_affine=True)\n",
    "      (mlp): Mlp(\n",
    "        (fc1): Linear(in_features=192, out_features=768, bias=True)\n",
    "        (act): GELU()\n",
    "        (drop1): Dropout(p=0.0, inplace=False)\n",
    "        (fc2): Linear(in_features=768, out_features=192, bias=True)\n",
    "        (drop2): Dropout(p=0.0, inplace=False)\n",
    "      )\n",
    "    )\n",
    "```"
   ]
  },
  {
   "cell_type": "code",
   "execution_count": 23,
   "id": "4bdfac08",
   "metadata": {},
   "outputs": [],
   "source": [
    "idx = 0\n",
    "\n",
    "for outer_layer in deit_tiny_patch16_224_tf.layers:\n",
    "    if isinstance(outer_layer, tf.keras.Model) and outer_layer.name != \"projection\":\n",
    "        tf_block = deit_tiny_patch16_224_tf.get_layer(outer_layer.name)\n",
    "        pt_block_name = f\"blocks.{idx}\"\n",
    "\n",
    "        # LayerNorm layers.\n",
    "        layer_norm_idx = 1\n",
    "        for layer in tf_block.layers:\n",
    "            if isinstance(layer, tf.keras.layers.LayerNormalization):\n",
    "                layer_norm_pt_prefix = f\"{pt_block_name}.norm{layer_norm_idx}\"\n",
    "                layer.gamma.assign(\n",
    "                    tf.Variable(\n",
    "                        deit_tiny_patch16_224_dict[f\"{layer_norm_pt_prefix}.weight\"]\n",
    "                    )\n",
    "                )\n",
    "                layer.beta.assign(\n",
    "                    tf.Variable(\n",
    "                        deit_tiny_patch16_224_dict[f\"{layer_norm_pt_prefix}.bias\"]\n",
    "                    )\n",
    "                )\n",
    "                layer_norm_idx += 1\n",
    "\n",
    "        # FFN layers.\n",
    "        ffn_layer_idx = 1\n",
    "        for layer in tf_block.layers:\n",
    "            if isinstance(layer, tf.keras.layers.Dense):\n",
    "                dense_layer_pt_prefix = f\"{pt_block_name}.mlp.fc{ffn_layer_idx}\"\n",
    "                layer = modify_tf_block(\n",
    "                    layer,\n",
    "                    deit_tiny_patch16_224_dict[f\"{dense_layer_pt_prefix}.weight\"],\n",
    "                    deit_tiny_patch16_224_dict[f\"{dense_layer_pt_prefix}.bias\"],\n",
    "                    deit_tiny_patch16_224_tf_config,\n",
    "                )\n",
    "                ffn_layer_idx += 1\n",
    "\n",
    "        # Attention layer.\n",
    "        for layer in tf_block.layers:\n",
    "            (q_w, k_w, v_w), (q_b, k_b, v_b) = get_tf_qkv(\n",
    "                f\"{pt_block_name}.attn\",\n",
    "                deit_tiny_patch16_224_dict,\n",
    "                deit_tiny_patch16_224_tf_config,\n",
    "            )\n",
    "\n",
    "            if isinstance(layer, mha.TFViTAttention):\n",
    "                # Key\n",
    "                layer.self_attention.key = modify_tf_block(\n",
    "                    layer.self_attention.key,\n",
    "                    k_w,\n",
    "                    k_b,\n",
    "                    deit_tiny_patch16_224_tf_config,\n",
    "                    is_attn=True,\n",
    "                )\n",
    "                # Query\n",
    "                layer.self_attention.query = modify_tf_block(\n",
    "                    layer.self_attention.query,\n",
    "                    q_w,\n",
    "                    q_b,\n",
    "                    deit_tiny_patch16_224_tf_config,\n",
    "                    is_attn=True,\n",
    "                )\n",
    "                # Value\n",
    "                layer.self_attention.value = modify_tf_block(\n",
    "                    layer.self_attention.value,\n",
    "                    v_w,\n",
    "                    v_b,\n",
    "                    deit_tiny_patch16_224_tf_config,\n",
    "                    is_attn=True,\n",
    "                )\n",
    "                # Final dense projection\n",
    "                layer.dense_output.dense = modify_tf_block(\n",
    "                    layer.dense_output.dense,\n",
    "                    deit_tiny_patch16_224_dict[f\"{pt_block_name}.attn.proj.weight\"],\n",
    "                    deit_tiny_patch16_224_dict[f\"{pt_block_name}.attn.proj.bias\"],\n",
    "                    deit_tiny_patch16_224_tf_config,\n",
    "                )\n",
    "\n",
    "        idx += 1"
   ]
  },
  {
   "cell_type": "code",
   "execution_count": 24,
   "id": "f871bb0c",
   "metadata": {},
   "outputs": [],
   "source": [
    "idx = 0\n",
    "\n",
    "for outer_layer in deit_tiny_patch16_224_tf.layers:\n",
    "    if isinstance(outer_layer, tf.keras.Model) and outer_layer.name != \"projection\":\n",
    "        tf_block = deit_tiny_patch16_224_tf.get_layer(outer_layer.name)\n",
    "        pt_block_name = f\"blocks.{idx}\"\n",
    "\n",
    "        # LayerNorm layers.\n",
    "        layer_norm_idx = 1\n",
    "        for layer in tf_block.layers:\n",
    "            if isinstance(layer, tf.keras.layers.LayerNormalization):\n",
    "                layer_norm_pt_prefix = f\"{pt_block_name}.norm{layer_norm_idx}\"\n",
    "                np.testing.assert_allclose(\n",
    "                    layer.gamma.numpy(),\n",
    "                    deit_tiny_patch16_224_dict[f\"{layer_norm_pt_prefix}.weight\"],\n",
    "                )\n",
    "                np.testing.assert_allclose(\n",
    "                    layer.beta.numpy(),\n",
    "                    deit_tiny_patch16_224_dict[f\"{layer_norm_pt_prefix}.bias\"],\n",
    "                )\n",
    "                layer_norm_idx += 1\n",
    "\n",
    "        # FFN layers.\n",
    "        ffn_layer_idx = 1\n",
    "        for layer in tf_block.layers:\n",
    "            if isinstance(layer, tf.keras.layers.Dense):\n",
    "                dense_layer_pt_prefix = f\"{pt_block_name}.mlp.fc{ffn_layer_idx}\"\n",
    "                np.testing.assert_allclose(\n",
    "                    layer.kernel.numpy(),\n",
    "                    deit_tiny_patch16_224_dict[f\"{dense_layer_pt_prefix}.weight\"].transpose(),\n",
    "                )\n",
    "                np.testing.assert_allclose(\n",
    "                    layer.bias.numpy(),\n",
    "                    deit_tiny_patch16_224_dict[f\"{dense_layer_pt_prefix}.bias\"],\n",
    "                )\n",
    "                ffn_layer_idx += 1\n",
    "\n",
    "        # Attention layer.\n",
    "        for layer in tf_block.layers:\n",
    "            (q_w, k_w, v_w), (q_b, k_b, v_b) = get_tf_qkv(\n",
    "                f\"{pt_block_name}.attn\",\n",
    "                deit_tiny_patch16_224_dict,\n",
    "                deit_tiny_patch16_224_tf_config,\n",
    "            )\n",
    "\n",
    "            if isinstance(layer, mha.TFViTAttention):\n",
    "                # Key\n",
    "                np.testing.assert_allclose(layer.self_attention.key.kernel.numpy(), k_w)\n",
    "                np.testing.assert_allclose(layer.self_attention.key.bias.numpy(), k_b)\n",
    "                # Query\n",
    "                np.testing.assert_allclose(\n",
    "                    layer.self_attention.query.kernel.numpy(), q_w\n",
    "                )\n",
    "                np.testing.assert_allclose(layer.self_attention.query.bias.numpy(), q_b)\n",
    "                # Value\n",
    "                np.testing.assert_allclose(\n",
    "                    layer.self_attention.value.kernel.numpy(), v_w\n",
    "                )\n",
    "                np.testing.assert_allclose(layer.self_attention.value.bias.numpy(), v_b)\n",
    "                # Final dense projection\n",
    "                np.testing.assert_allclose(\n",
    "                    layer.dense_output.dense.kernel.numpy(),\n",
    "                    deit_tiny_patch16_224_dict[f\"{pt_block_name}.attn.proj.weight\"].transpose(),\n",
    "                )\n",
    "                np.testing.assert_allclose(\n",
    "                    layer.dense_output.dense.bias.numpy(),\n",
    "                    deit_tiny_patch16_224_dict[f\"{pt_block_name}.attn.proj.bias\"],\n",
    "                )\n",
    "\n",
    "        idx += 1"
   ]
  },
  {
   "cell_type": "code",
   "execution_count": 25,
   "id": "a4d6dd0d",
   "metadata": {},
   "outputs": [],
   "source": [
    "import requests\n",
    "from PIL import Image\n",
    "from io import BytesIO"
   ]
  },
  {
   "cell_type": "code",
   "execution_count": 26,
   "id": "7a3268b7",
   "metadata": {},
   "outputs": [],
   "source": [
    "norm_layer = tf.keras.layers.Normalization(\n",
    "    mean=[0.485 * 255, 0.456 * 255, 0.406 * 255],\n",
    "    variance=[(0.229 * 255) ** 2, (0.224 * 255) ** 2, (0.225 * 255) ** 2],\n",
    ")\n",
    "\n",
    "\n",
    "def preprocess_image(image):\n",
    "    image = np.array(image)\n",
    "    image_resized = tf.image.resize(image, (224, 224))\n",
    "    image_resized = tf.cast(image_resized, tf.float32)\n",
    "    \n",
    "    image_resized = tf.expand_dims(image_resized, 0)\n",
    "    return norm_layer(image_resized)\n",
    "\n",
    "def load_image_from_url(url):\n",
    "    response = requests.get(url)\n",
    "    image = Image.open(BytesIO(response.content))\n",
    "    image = preprocess_image(image)\n",
    "    return image\n",
    "\n",
    "# !wget https://storage.googleapis.com/bit_models/ilsvrc2012_wordnet_lemmas.txt -O ilsvrc2012_wordnet_lemmas.txt"
   ]
  },
  {
   "cell_type": "code",
   "execution_count": 27,
   "id": "3e3f1efe",
   "metadata": {},
   "outputs": [],
   "source": [
    "with open(\"ilsvrc2012_wordnet_lemmas.txt\", \"r\") as f:\n",
    "    lines = f.readlines()\n",
    "imagenet_int_to_str = [line.rstrip() for line in lines]\n",
    "\n",
    "img_url = \"https://p0.pikrepo.com/preview/853/907/close-up-photo-of-gray-elephant.jpg\"\n",
    "image = load_image_from_url(img_url)"
   ]
  },
  {
   "cell_type": "code",
   "execution_count": 28,
   "id": "a9210be1",
   "metadata": {},
   "outputs": [],
   "source": [
    "predictions = deit_tiny_patch16_224_tf.predict(image)\n",
    "logits = predictions[0]\n",
    "predicted_label = imagenet_int_to_str[int(np.argmax(logits))]\n",
    "expected_label = \"Indian_elephant, Elephas_maximus\"\n",
    "assert (\n",
    "    predicted_label == expected_label\n",
    "), f\"Expected {expected_label} but was {predicted_label}\""
   ]
  },
  {
   "cell_type": "code",
   "execution_count": 29,
   "id": "9ac579dc",
   "metadata": {},
   "outputs": [
    {
     "name": "stderr",
     "output_type": "stream",
     "text": [
      "2022-03-27 08:50:26.453653: W tensorflow/python/util/util.cc:368] Sets are not currently considered sequences, but this may change in the future, so consider avoiding using them.\n",
      "WARNING:absl:Found untraced functions such as attention_layer_call_fn, attention_layer_call_and_return_conditional_losses, output_layer_call_fn, output_layer_call_and_return_conditional_losses, attention_layer_call_fn while saving (showing 5 of 192). These functions will not be directly callable after loading.\n"
     ]
    },
    {
     "name": "stdout",
     "output_type": "stream",
     "text": [
      "INFO:tensorflow:Assets written to: deit_tiny_patch16_224_tf/assets\n"
     ]
    },
    {
     "name": "stderr",
     "output_type": "stream",
     "text": [
      "INFO:tensorflow:Assets written to: deit_tiny_patch16_224_tf/assets\n"
     ]
    }
   ],
   "source": [
    "deit_tiny_patch16_224_tf.save(\"deit_tiny_patch16_224_tf\")"
   ]
  }
 ],
 "metadata": {
  "kernelspec": {
   "display_name": "Python 3 (ipykernel)",
   "language": "python",
   "name": "python3"
  },
  "language_info": {
   "codemirror_mode": {
    "name": "ipython",
    "version": 3
   },
   "file_extension": ".py",
   "mimetype": "text/x-python",
   "name": "python",
   "nbconvert_exporter": "python",
   "pygments_lexer": "ipython3",
   "version": "3.8.2"
  }
 },
 "nbformat": 4,
 "nbformat_minor": 5
}
